{
  "nbformat": 4,
  "nbformat_minor": 0,
  "metadata": {
    "colab": {
      "provenance": [],
      "authorship_tag": "ABX9TyO0EO7KDD8QW5fhh3ss6d3T",
      "include_colab_link": true
    },
    "kernelspec": {
      "name": "python3",
      "display_name": "Python 3"
    },
    "language_info": {
      "name": "python"
    }
  },
  "cells": [
    {
      "cell_type": "markdown",
      "metadata": {
        "id": "view-in-github",
        "colab_type": "text"
      },
      "source": [
        "<a href=\"https://colab.research.google.com/github/MichaelKnopacki/exerciciosPython1/blob/main/ExerciciosPython1.ipynb\" target=\"_parent\"><img src=\"https://colab.research.google.com/assets/colab-badge.svg\" alt=\"Open In Colab\"/></a>"
      ]
    },
    {
      "cell_type": "markdown",
      "source": [
        "# Coleta e amostragem de dados\n",
        "\n"
      ],
      "metadata": {
        "id": "hiFNlD7wd_oy"
      }
    },
    {
      "cell_type": "markdown",
      "source": [
        "Crie um programa que solicite à pessoa usuária digitar seu nome, e imprima “Olá, [nome]!”."
      ],
      "metadata": {
        "id": "ex_MA8hZY-hZ"
      }
    },
    {
      "cell_type": "code",
      "source": [
        "nome = input( \"Qual seu nome ? \")"
      ],
      "metadata": {
        "colab": {
          "base_uri": "https://localhost:8080/"
        },
        "id": "IYfMhOapZVml",
        "outputId": "fca0773a-c34a-4d9e-fbcc-c618d13e84c9"
      },
      "execution_count": 3,
      "outputs": [
        {
          "name": "stdout",
          "output_type": "stream",
          "text": [
            "Qual seu nome ?Lorenzo\n"
          ]
        }
      ]
    },
    {
      "cell_type": "code",
      "source": [
        "print (f'Olá {nome}')"
      ],
      "metadata": {
        "colab": {
          "base_uri": "https://localhost:8080/"
        },
        "id": "IXK8sD70ZfWu",
        "outputId": "fa9202d6-bdd1-4ff9-c297-7c38f54b83e9"
      },
      "execution_count": 4,
      "outputs": [
        {
          "output_type": "stream",
          "name": "stdout",
          "text": [
            "Olá Lorenzo\n"
          ]
        }
      ]
    },
    {
      "cell_type": "markdown",
      "source": [
        "Crie um programa que solicite à pessoa usuária digitar seu nome e idade, e imprima “Olá, [nome], você tem [idade] anos.”.\n"
      ],
      "metadata": {
        "id": "FJ718EEjZGR1"
      }
    },
    {
      "cell_type": "code",
      "source": [
        "nome = input ('Qual seu nome ? ')\n",
        "idade = input ('Qual a sua idade ? ')"
      ],
      "metadata": {
        "colab": {
          "base_uri": "https://localhost:8080/"
        },
        "id": "A6gugmdxZJaK",
        "outputId": "8f8542a0-1f0d-4724-8837-490128b36f85"
      },
      "execution_count": 6,
      "outputs": [
        {
          "name": "stdout",
          "output_type": "stream",
          "text": [
            "Qual seu nome ? Jose\n",
            "Qual a sua idade ?14\n"
          ]
        }
      ]
    },
    {
      "cell_type": "code",
      "source": [
        "print(f'Olá {nome}, você tem {idade} anos')"
      ],
      "metadata": {
        "colab": {
          "base_uri": "https://localhost:8080/"
        },
        "id": "fIaHmJ9LZWN1",
        "outputId": "fd18d512-1b7d-4af1-c403-68897b2c5bef"
      },
      "execution_count": 7,
      "outputs": [
        {
          "output_type": "stream",
          "name": "stdout",
          "text": [
            "Olá Jose, você tem 14 anos\n"
          ]
        }
      ]
    },
    {
      "cell_type": "markdown",
      "source": [
        "Crie um programa que solicite à pessoa usuária digitar seu nome, idade e altura em metros, e imprima “Olá, [nome], você tem [idade] anos e mede [altura] metros!”."
      ],
      "metadata": {
        "id": "y7jZoLvlZLEh"
      }
    },
    {
      "cell_type": "code",
      "source": [
        "nome = input ('Qual seu nome ? ')\n",
        "idade = input ( 'Qual a sua idade ?')\n",
        "altura = input ( 'Qual a sua altura ?')"
      ],
      "metadata": {
        "colab": {
          "base_uri": "https://localhost:8080/"
        },
        "id": "GRHTaw8_ZXXY",
        "outputId": "2ec2d11f-81a0-471c-b3f7-d85b825a36a4"
      },
      "execution_count": 9,
      "outputs": [
        {
          "name": "stdout",
          "output_type": "stream",
          "text": [
            "Qual seu nome ? Marcos\n",
            "Qual a sua idade ?55\n",
            "Qual a sua altura ?1.70\n"
          ]
        }
      ]
    },
    {
      "cell_type": "code",
      "source": [
        "print (f'Olá, {nome}, você tem {idade} anos e mede {altura} metros!')"
      ],
      "metadata": {
        "colab": {
          "base_uri": "https://localhost:8080/"
        },
        "id": "ED7bxYaFdrmV",
        "outputId": "7f101376-ffe9-42e0-9cec-30bec8ebb32e"
      },
      "execution_count": 10,
      "outputs": [
        {
          "output_type": "stream",
          "name": "stdout",
          "text": [
            "Olá, Marcos, voc~e tem 55 anos e mede 1.70 metros!\n"
          ]
        }
      ]
    },
    {
      "cell_type": "markdown",
      "source": [
        "\n",
        "\n",
        "---\n",
        "\n"
      ],
      "metadata": {
        "id": "8tFfTYlwm89o"
      }
    },
    {
      "cell_type": "markdown",
      "source": [
        "# Calculadora com operadores\n"
      ],
      "metadata": {
        "id": "SbTRS-JPeJA7"
      }
    },
    {
      "cell_type": "markdown",
      "source": [
        "## Crie um programa que solicite dois valores numéricos à pessoa usuária e imprima a soma dos dois valores."
      ],
      "metadata": {
        "id": "vuoVqvfLeNba"
      }
    },
    {
      "cell_type": "code",
      "source": [
        "valor1 = input ('Digite o primeiro valor:  ')\n",
        "valor2 = input ('Digite o segundo valor: ')\n",
        "soma = int(valor1) + int(valor2)"
      ],
      "metadata": {
        "colab": {
          "base_uri": "https://localhost:8080/"
        },
        "id": "0mi5GQ9TeSnK",
        "outputId": "ab602435-f0b8-4f8b-db5c-9715ca342db3"
      },
      "execution_count": 35,
      "outputs": [
        {
          "name": "stdout",
          "output_type": "stream",
          "text": [
            "Digite o primeiro valor:  2\n",
            "Digite o segundo valor: 5\n"
          ]
        }
      ]
    },
    {
      "cell_type": "code",
      "source": [
        "soma"
      ],
      "metadata": {
        "colab": {
          "base_uri": "https://localhost:8080/"
        },
        "id": "QmAkD_btnoRb",
        "outputId": "0e37c691-e4e0-4c2b-cc80-44994f4804bd"
      },
      "execution_count": 36,
      "outputs": [
        {
          "output_type": "execute_result",
          "data": {
            "text/plain": [
              "7"
            ]
          },
          "metadata": {},
          "execution_count": 36
        }
      ]
    },
    {
      "cell_type": "markdown",
      "source": [
        "## Crie um programa que solicite três valores numéricos à pessoa usuária e imprima a soma dos três valores."
      ],
      "metadata": {
        "id": "Zzgu189eki-9"
      }
    },
    {
      "cell_type": "markdown",
      "source": [
        "## Crie um programa que solicite dois valores numéricos à pessoa usuária e imprima a subtração do primeiro pelo o segundo valor."
      ],
      "metadata": {
        "id": "Onyb314Ukkj7"
      }
    },
    {
      "cell_type": "markdown",
      "source": [
        "## Crie um programa que solicite dois valores numéricos à pessoa usuária e imprima a multiplicação dos dois valores."
      ],
      "metadata": {
        "id": "bMoLtq7BknZu"
      }
    },
    {
      "cell_type": "markdown",
      "source": [
        "## Crie um programa que solicite dois valores numéricos, um numerador e um denominador, e realize a divisão entre os dois valores. Deixe claro que o valor do denominador não pode ser 0."
      ],
      "metadata": {
        "id": "4FRjz2a4kqXt"
      }
    },
    {
      "cell_type": "markdown",
      "source": [
        "## Crie um programa que solicite dois valores numéricos, um operador e uma potência, e realize a exponenciação entre esses dois valores."
      ],
      "metadata": {
        "id": "1J-Zri8ZkuSM"
      }
    },
    {
      "cell_type": "markdown",
      "source": [
        "## Crie um programa que solicite dois valores numéricos, um numerador e um denominador e realize a divisão inteira entre os dois valores. Deixe claro que o valor do denominador não pode ser 0."
      ],
      "metadata": {
        "id": "VH4GuBZ4kwAE"
      }
    },
    {
      "cell_type": "markdown",
      "source": [
        "## Crie um programa que solicite dois valores numéricos, um numerador e um denominador, e retorne o resto da divisão entre os dois valores. Deixe claro que o valor do denominador não pode ser 0."
      ],
      "metadata": {
        "id": "C3ESeewukzbT"
      }
    },
    {
      "cell_type": "markdown",
      "source": [
        "## Crie um código que solicita 3 notas de um estudante e imprima a média das notas."
      ],
      "metadata": {
        "id": "7a1Lw2qWk2Fl"
      }
    },
    {
      "cell_type": "markdown",
      "source": [
        "## Crie um código que calcule e imprima a média ponderada dos números 5, 12, 20 e 15 com pesos respectivamente iguais a 1, 2, 3 e 4."
      ],
      "metadata": {
        "id": "r-IkeKCHk4zP"
      }
    },
    {
      "cell_type": "markdown",
      "source": [
        "\n",
        "\n",
        "---\n",
        "\n"
      ],
      "metadata": {
        "id": "1Glht0CUm_Ya"
      }
    },
    {
      "cell_type": "markdown",
      "source": [
        "# Editando textos"
      ],
      "metadata": {
        "id": "168RPXmCk7MQ"
      }
    },
    {
      "cell_type": "markdown",
      "source": [
        "## Crie uma variável chamada “frase” e atribua a ela uma string de sua escolha. Em seguida, imprima a frase na tela."
      ],
      "metadata": {
        "id": "O9q3lFSBk-dJ"
      }
    },
    {
      "cell_type": "markdown",
      "source": [
        "## Crie um código que solicite uma frase e depois imprima a frase na tela."
      ],
      "metadata": {
        "id": "SNLV5BpMlJwJ"
      }
    },
    {
      "cell_type": "markdown",
      "source": [
        "## Crie um código que solicite uma frase à pessoa usuária e imprima a mesma frase digitada mas com todas as letras maiúsculas."
      ],
      "metadata": {
        "id": "g9QOr3zolO94"
      }
    },
    {
      "cell_type": "markdown",
      "source": [
        "## Crie um código que solicite uma frase à pessoa usuária e imprima a mesma frase digitada mas com todas as letras minúsculas."
      ],
      "metadata": {
        "id": "uIswJhCVlRPn"
      }
    },
    {
      "cell_type": "markdown",
      "source": [
        "## Crie uma variável chamada “frase” e atribua a ela uma string de sua escolha. Em seguida, imprima a frase sem espaços em branco no início e no fim."
      ],
      "metadata": {
        "id": "EFBvB9bKlToO"
      }
    },
    {
      "cell_type": "markdown",
      "source": [
        "## Crie um código que solicite uma frase à pessoa usuária e imprima a mesma frase sem espaços em branco no início e no fim."
      ],
      "metadata": {
        "id": "cdyDk9hXmoQE"
      }
    },
    {
      "cell_type": "markdown",
      "source": [
        "## Crie um código que solicite uma frase à pessoa usuária e imprima a mesma frase sem espaços em branco no início e no fim e em letras minúsculas."
      ],
      "metadata": {
        "id": "DmTalSmLmqth"
      }
    },
    {
      "cell_type": "markdown",
      "source": [
        "## Crie um código que solicite uma frase à pessoa usuária e imprima a mesma frase com todas as vogais “e” trocadas pela letra “f”."
      ],
      "metadata": {
        "id": "zXAaXD1xmtwl"
      }
    },
    {
      "cell_type": "markdown",
      "source": [
        "## Crie um código que solicite uma frase à pessoa usuária e imprima a mesma frase com todas as vogais “a” trocadas pela caractere “@”."
      ],
      "metadata": {
        "id": "4_skb5hGmxbl"
      }
    },
    {
      "cell_type": "markdown",
      "source": [
        "## Crie um código que solicite uma frase à pessoa usuária e imprima a mesma frase com todas as consoantes “s” trocadas pelo caractere “$”."
      ],
      "metadata": {
        "id": "Sb3mUao1my0J"
      }
    },
    {
      "cell_type": "markdown",
      "source": [],
      "metadata": {
        "id": "RQJ6YC6pm1bB"
      }
    }
  ]
}