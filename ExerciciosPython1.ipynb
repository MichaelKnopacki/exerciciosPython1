{
  "nbformat": 4,
  "nbformat_minor": 0,
  "metadata": {
    "colab": {
      "provenance": [],
      "authorship_tag": "ABX9TyPRNp+JGIe7qmrA0291vbEC",
      "include_colab_link": true
    },
    "kernelspec": {
      "name": "python3",
      "display_name": "Python 3"
    },
    "language_info": {
      "name": "python"
    }
  },
  "cells": [
    {
      "cell_type": "markdown",
      "metadata": {
        "id": "view-in-github",
        "colab_type": "text"
      },
      "source": [
        "<a href=\"https://colab.research.google.com/github/MichaelKnopacki/exerciciosPython1/blob/main/ExerciciosPython1.ipynb\" target=\"_parent\"><img src=\"https://colab.research.google.com/assets/colab-badge.svg\" alt=\"Open In Colab\"/></a>"
      ]
    },
    {
      "cell_type": "markdown",
      "source": [
        "# Coleta e amostragem de dados\n",
        "\n"
      ],
      "metadata": {
        "id": "hiFNlD7wd_oy"
      }
    },
    {
      "cell_type": "markdown",
      "source": [
        "Crie um programa que solicite à pessoa usuária digitar seu nome, e imprima “Olá, [nome]!”."
      ],
      "metadata": {
        "id": "ex_MA8hZY-hZ"
      }
    },
    {
      "cell_type": "code",
      "source": [
        "nome = input( \"Qual seu nome ? \")"
      ],
      "metadata": {
        "colab": {
          "base_uri": "https://localhost:8080/"
        },
        "id": "IYfMhOapZVml",
        "outputId": "fca0773a-c34a-4d9e-fbcc-c618d13e84c9"
      },
      "execution_count": null,
      "outputs": [
        {
          "name": "stdout",
          "output_type": "stream",
          "text": [
            "Qual seu nome ?Lorenzo\n"
          ]
        }
      ]
    },
    {
      "cell_type": "code",
      "source": [
        "print (f'Olá {nome}')"
      ],
      "metadata": {
        "colab": {
          "base_uri": "https://localhost:8080/"
        },
        "id": "IXK8sD70ZfWu",
        "outputId": "fa9202d6-bdd1-4ff9-c297-7c38f54b83e9"
      },
      "execution_count": null,
      "outputs": [
        {
          "output_type": "stream",
          "name": "stdout",
          "text": [
            "Olá Lorenzo\n"
          ]
        }
      ]
    },
    {
      "cell_type": "markdown",
      "source": [
        "Crie um programa que solicite à pessoa usuária digitar seu nome e idade, e imprima “Olá, [nome], você tem [idade] anos.”.\n"
      ],
      "metadata": {
        "id": "FJ718EEjZGR1"
      }
    },
    {
      "cell_type": "code",
      "source": [
        "nome = input ('Qual seu nome ? ')\n",
        "idade = input ('Qual a sua idade ? ')"
      ],
      "metadata": {
        "colab": {
          "base_uri": "https://localhost:8080/"
        },
        "id": "A6gugmdxZJaK",
        "outputId": "8f8542a0-1f0d-4724-8837-490128b36f85"
      },
      "execution_count": null,
      "outputs": [
        {
          "name": "stdout",
          "output_type": "stream",
          "text": [
            "Qual seu nome ? Jose\n",
            "Qual a sua idade ?14\n"
          ]
        }
      ]
    },
    {
      "cell_type": "code",
      "source": [
        "print(f'Olá {nome}, você tem {idade} anos')"
      ],
      "metadata": {
        "colab": {
          "base_uri": "https://localhost:8080/"
        },
        "id": "fIaHmJ9LZWN1",
        "outputId": "fd18d512-1b7d-4af1-c403-68897b2c5bef"
      },
      "execution_count": null,
      "outputs": [
        {
          "output_type": "stream",
          "name": "stdout",
          "text": [
            "Olá Jose, você tem 14 anos\n"
          ]
        }
      ]
    },
    {
      "cell_type": "markdown",
      "source": [
        "Crie um programa que solicite à pessoa usuária digitar seu nome, idade e altura em metros, e imprima “Olá, [nome], você tem [idade] anos e mede [altura] metros!”."
      ],
      "metadata": {
        "id": "y7jZoLvlZLEh"
      }
    },
    {
      "cell_type": "code",
      "source": [
        "nome = input ('Qual seu nome ? ')\n",
        "idade = input ( 'Qual a sua idade ?')\n",
        "altura = input ( 'Qual a sua altura ?')"
      ],
      "metadata": {
        "colab": {
          "base_uri": "https://localhost:8080/"
        },
        "id": "GRHTaw8_ZXXY",
        "outputId": "2ec2d11f-81a0-471c-b3f7-d85b825a36a4"
      },
      "execution_count": null,
      "outputs": [
        {
          "name": "stdout",
          "output_type": "stream",
          "text": [
            "Qual seu nome ? Marcos\n",
            "Qual a sua idade ?55\n",
            "Qual a sua altura ?1.70\n"
          ]
        }
      ]
    },
    {
      "cell_type": "code",
      "source": [
        "print (f'Olá, {nome}, você tem {idade} anos e mede {altura} metros!')"
      ],
      "metadata": {
        "colab": {
          "base_uri": "https://localhost:8080/"
        },
        "id": "ED7bxYaFdrmV",
        "outputId": "7f101376-ffe9-42e0-9cec-30bec8ebb32e"
      },
      "execution_count": null,
      "outputs": [
        {
          "output_type": "stream",
          "name": "stdout",
          "text": [
            "Olá, Marcos, voc~e tem 55 anos e mede 1.70 metros!\n"
          ]
        }
      ]
    },
    {
      "cell_type": "markdown",
      "source": [
        "\n",
        "\n",
        "---\n",
        "\n"
      ],
      "metadata": {
        "id": "8tFfTYlwm89o"
      }
    },
    {
      "cell_type": "markdown",
      "source": [
        "# Calculadora com operadores\n"
      ],
      "metadata": {
        "id": "SbTRS-JPeJA7"
      }
    },
    {
      "cell_type": "markdown",
      "source": [
        "## Crie um programa que solicite dois valores numéricos à pessoa usuária e imprima a soma dos dois valores."
      ],
      "metadata": {
        "id": "vuoVqvfLeNba"
      }
    },
    {
      "cell_type": "code",
      "source": [
        "valor1 = input ('Digite o primeiro valor:  ')\n",
        "valor2 = input ('Digite o segundo valor: ')\n",
        "soma = int(valor1) + int(valor2)"
      ],
      "metadata": {
        "colab": {
          "base_uri": "https://localhost:8080/"
        },
        "id": "0mi5GQ9TeSnK",
        "outputId": "ab602435-f0b8-4f8b-db5c-9715ca342db3"
      },
      "execution_count": null,
      "outputs": [
        {
          "name": "stdout",
          "output_type": "stream",
          "text": [
            "Digite o primeiro valor:  2\n",
            "Digite o segundo valor: 5\n"
          ]
        }
      ]
    },
    {
      "cell_type": "code",
      "source": [
        "soma"
      ],
      "metadata": {
        "colab": {
          "base_uri": "https://localhost:8080/"
        },
        "id": "QmAkD_btnoRb",
        "outputId": "0e37c691-e4e0-4c2b-cc80-44994f4804bd"
      },
      "execution_count": null,
      "outputs": [
        {
          "output_type": "execute_result",
          "data": {
            "text/plain": [
              "7"
            ]
          },
          "metadata": {},
          "execution_count": 36
        }
      ]
    },
    {
      "cell_type": "markdown",
      "source": [
        "## Crie um programa que solicite três valores numéricos à pessoa usuária e imprima a soma dos três valores."
      ],
      "metadata": {
        "id": "Zzgu189eki-9"
      }
    },
    {
      "cell_type": "code",
      "source": [
        "valor1 = input ('Digite o primeiro valor:  ')\n",
        "valor2 = input ('Digite o segundo valor: ')\n",
        "valor3 = input ('Digite o terceiro valor: ')\n",
        "soma = int(valor1) + int(valor2) + int(valor3)"
      ],
      "metadata": {
        "colab": {
          "base_uri": "https://localhost:8080/"
        },
        "id": "fTgud0aXWKNn",
        "outputId": "7a4e6821-0b32-471d-f1df-930a953887f1"
      },
      "execution_count": 1,
      "outputs": [
        {
          "name": "stdout",
          "output_type": "stream",
          "text": [
            "Digite o primeiro valor:  1\n",
            "Digite o segundo valor: 1\n",
            "Digite o terceiro valor: 1\n"
          ]
        }
      ]
    },
    {
      "cell_type": "code",
      "source": [
        "soma"
      ],
      "metadata": {
        "colab": {
          "base_uri": "https://localhost:8080/"
        },
        "id": "YkZ860aiYzgj",
        "outputId": "3e71198a-c306-4548-c8a2-3ff7171fc333"
      },
      "execution_count": 2,
      "outputs": [
        {
          "output_type": "execute_result",
          "data": {
            "text/plain": [
              "3"
            ]
          },
          "metadata": {},
          "execution_count": 2
        }
      ]
    },
    {
      "cell_type": "markdown",
      "source": [
        "## Crie um programa que solicite dois valores numéricos à pessoa usuária e imprima a subtração do primeiro pelo o segundo valor."
      ],
      "metadata": {
        "id": "Onyb314Ukkj7"
      }
    },
    {
      "cell_type": "code",
      "source": [
        "valor1 = input ('Digite o primeiro valor:  ')\n",
        "valor2 = input ('Digite o segundo valor: ')\n",
        "subtracao = int(valor1) - int(valor2)"
      ],
      "metadata": {
        "colab": {
          "base_uri": "https://localhost:8080/"
        },
        "id": "3WNhyvBPZBoO",
        "outputId": "c682d349-1e10-47d4-b51f-8afda1833a87"
      },
      "execution_count": 3,
      "outputs": [
        {
          "name": "stdout",
          "output_type": "stream",
          "text": [
            "Digite o primeiro valor:  2\n",
            "Digite o segundo valor: 1\n"
          ]
        }
      ]
    },
    {
      "cell_type": "code",
      "source": [
        "subtracao"
      ],
      "metadata": {
        "colab": {
          "base_uri": "https://localhost:8080/"
        },
        "id": "gmv8CW8LZGTx",
        "outputId": "2f040141-2b04-4a45-f42c-b636869ba012"
      },
      "execution_count": 4,
      "outputs": [
        {
          "output_type": "execute_result",
          "data": {
            "text/plain": [
              "1"
            ]
          },
          "metadata": {},
          "execution_count": 4
        }
      ]
    },
    {
      "cell_type": "markdown",
      "source": [
        "## Crie um programa que solicite dois valores numéricos à pessoa usuária e imprima a multiplicação dos dois valores."
      ],
      "metadata": {
        "id": "bMoLtq7BknZu"
      }
    },
    {
      "cell_type": "code",
      "source": [
        "valor1 = input ('Digite o primeiro valor:  ')\n",
        "valor2 = input ('Digite o segundo valor: ')\n",
        "multiplicacao = int(valor1) - int(valor2)"
      ],
      "metadata": {
        "colab": {
          "base_uri": "https://localhost:8080/"
        },
        "id": "LN-1inuPZOd4",
        "outputId": "af5abcd9-6544-4aa9-d41f-f44d364091f3"
      },
      "execution_count": 5,
      "outputs": [
        {
          "name": "stdout",
          "output_type": "stream",
          "text": [
            "Digite o primeiro valor:  2\n",
            "Digite o segundo valor: 1\n"
          ]
        }
      ]
    },
    {
      "cell_type": "code",
      "source": [
        "multiplicacao"
      ],
      "metadata": {
        "colab": {
          "base_uri": "https://localhost:8080/"
        },
        "id": "ufHXSdGhZQow",
        "outputId": "50afc007-b8f9-4951-8fe8-cc22d4bd4303"
      },
      "execution_count": 6,
      "outputs": [
        {
          "output_type": "execute_result",
          "data": {
            "text/plain": [
              "1"
            ]
          },
          "metadata": {},
          "execution_count": 6
        }
      ]
    },
    {
      "cell_type": "markdown",
      "source": [
        "## Crie um programa que solicite dois valores numéricos, um numerador e um denominador, e realize a divisão entre os dois valores. Deixe claro que o valor do denominador não pode ser 0."
      ],
      "metadata": {
        "id": "4FRjz2a4kqXt"
      }
    },
    {
      "cell_type": "code",
      "source": [
        "numerador = input (' Digite o primeiro valor:  ')\n",
        "denominador = input (' Digite o segundo valor: ')\n",
        "divisao = int(numerador) / int(denominador)"
      ],
      "metadata": {
        "colab": {
          "base_uri": "https://localhost:8080/"
        },
        "id": "HzPHCDaUZbai",
        "outputId": "d32f9fec-5c5d-4c21-dfc9-79f5c5c23eb7"
      },
      "execution_count": 10,
      "outputs": [
        {
          "name": "stdout",
          "output_type": "stream",
          "text": [
            " Digite o primeiro valor:  10\n",
            " Digite o segundo valor: 2\n"
          ]
        }
      ]
    },
    {
      "cell_type": "code",
      "source": [
        "divisao"
      ],
      "metadata": {
        "colab": {
          "base_uri": "https://localhost:8080/"
        },
        "id": "IjZ7Ht2nZqqW",
        "outputId": "6b222e6d-5840-4e40-f2b2-f9883717d27d"
      },
      "execution_count": 11,
      "outputs": [
        {
          "output_type": "execute_result",
          "data": {
            "text/plain": [
              "5.0"
            ]
          },
          "metadata": {},
          "execution_count": 11
        }
      ]
    },
    {
      "cell_type": "markdown",
      "source": [
        "## Crie um programa que solicite dois valores numéricos, um operador e uma potência, e realize a exponenciação entre esses dois valores."
      ],
      "metadata": {
        "id": "1J-Zri8ZkuSM"
      }
    },
    {
      "cell_type": "code",
      "source": [
        "operador = input (' Digite o primeiro valor:  ')\n",
        "potencia = input (' Digite o segundo valor: ')\n",
        "exponenciacao = int(operador) ** int(potencia)"
      ],
      "metadata": {
        "colab": {
          "base_uri": "https://localhost:8080/"
        },
        "id": "Ecbek9QrZqQ8",
        "outputId": "184ea53b-6f81-43e9-b981-b3951772865b"
      },
      "execution_count": 12,
      "outputs": [
        {
          "name": "stdout",
          "output_type": "stream",
          "text": [
            " Digite o primeiro valor:  5\n",
            " Digite o segundo valor: 2\n"
          ]
        }
      ]
    },
    {
      "cell_type": "code",
      "source": [
        "exponenciacao"
      ],
      "metadata": {
        "colab": {
          "base_uri": "https://localhost:8080/"
        },
        "id": "-BDOtD2oak-V",
        "outputId": "8c264f9f-aeaf-4ba5-dff5-8321dbcb583c"
      },
      "execution_count": 13,
      "outputs": [
        {
          "output_type": "execute_result",
          "data": {
            "text/plain": [
              "25"
            ]
          },
          "metadata": {},
          "execution_count": 13
        }
      ]
    },
    {
      "cell_type": "markdown",
      "source": [
        "## Crie um programa que solicite dois valores numéricos, um numerador e um denominador e realize a divisão inteira entre os dois valores. Deixe claro que o valor do denominador não pode ser 0."
      ],
      "metadata": {
        "id": "VH4GuBZ4kwAE"
      }
    },
    {
      "cell_type": "code",
      "source": [
        "numerador = input (' Digite o numerador valor:  ')\n",
        "denominador = input (' Digite o denominador valor:')\n",
        "try:\n",
        "  divisao = int(numerador) / int(denominador)\n",
        "except:\n",
        "  print ('Valor do denominador invalido')"
      ],
      "metadata": {
        "colab": {
          "base_uri": "https://localhost:8080/"
        },
        "id": "SApzXjpxbRux",
        "outputId": "0a39ef87-8bc8-4265-be36-c7f38e4f2bbe"
      },
      "execution_count": 25,
      "outputs": [
        {
          "output_type": "stream",
          "name": "stdout",
          "text": [
            " Digite o numerador valor:  10\n",
            " Digite o denominador valor:0\n",
            "Valor do denominador invalido\n"
          ]
        }
      ]
    },
    {
      "cell_type": "code",
      "source": [
        "divisao"
      ],
      "metadata": {
        "colab": {
          "base_uri": "https://localhost:8080/"
        },
        "id": "64nVthHDbXlO",
        "outputId": "faec8636-06ee-4467-fa09-a76f75582697"
      },
      "execution_count": 24,
      "outputs": [
        {
          "output_type": "execute_result",
          "data": {
            "text/plain": [
              "0.0"
            ]
          },
          "metadata": {},
          "execution_count": 24
        }
      ]
    },
    {
      "cell_type": "markdown",
      "source": [
        "## Crie um programa que solicite dois valores numéricos, um numerador e um denominador, e retorne o resto da divisão entre os dois valores. Deixe claro que o valor do denominador não pode ser 0."
      ],
      "metadata": {
        "id": "C3ESeewukzbT"
      }
    },
    {
      "cell_type": "code",
      "source": [
        "numerador = input (' Digite o numerador valor:  ')\n",
        "denominador = input (' Digite o denominador valor:')\n",
        "try:\n",
        "  divisao = int(numerador) % int(denominador)\n",
        "except:\n",
        "  print ('Valor do denominador invalido')"
      ],
      "metadata": {
        "colab": {
          "base_uri": "https://localhost:8080/"
        },
        "id": "kw0fdp9JdYUw",
        "outputId": "8b66400d-c934-4695-9f29-d93d128415fa"
      },
      "execution_count": 28,
      "outputs": [
        {
          "name": "stdout",
          "output_type": "stream",
          "text": [
            " Digite o numerador valor:  10\n",
            " Digite o denominador valor:4\n"
          ]
        }
      ]
    },
    {
      "cell_type": "code",
      "source": [
        "divisao"
      ],
      "metadata": {
        "colab": {
          "base_uri": "https://localhost:8080/"
        },
        "id": "XNTCM7FidruB",
        "outputId": "73a89298-6eba-4f99-83af-6803cea4187c"
      },
      "execution_count": 29,
      "outputs": [
        {
          "output_type": "execute_result",
          "data": {
            "text/plain": [
              "2"
            ]
          },
          "metadata": {},
          "execution_count": 29
        }
      ]
    },
    {
      "cell_type": "markdown",
      "source": [
        "## Crie um código que solicita 3 notas de um estudante e imprima a média das notas."
      ],
      "metadata": {
        "id": "7a1Lw2qWk2Fl"
      }
    },
    {
      "cell_type": "code",
      "source": [
        "nota1 = input ( 'Insira a primeira nota : ')\n",
        "nota2 = input ( 'Insira a segunda nota :')\n",
        "nota3 = input ( 'Insira a terceira nota :')\n",
        "\n",
        "soma = (int(nota1) + int(nota2) + int(nota3)) / 3"
      ],
      "metadata": {
        "colab": {
          "base_uri": "https://localhost:8080/"
        },
        "id": "a544SkCsi0bv",
        "outputId": "39e1cf91-b765-468e-c697-35f31255b129"
      },
      "execution_count": 32,
      "outputs": [
        {
          "name": "stdout",
          "output_type": "stream",
          "text": [
            "Insira a primeira nota : 2\n",
            "Insira a segunda nota :2\n",
            "Insira a terceira nota :2\n"
          ]
        }
      ]
    },
    {
      "cell_type": "code",
      "source": [
        "soma"
      ],
      "metadata": {
        "colab": {
          "base_uri": "https://localhost:8080/"
        },
        "id": "0ux1FBuYjPZS",
        "outputId": "1d6a8af9-63e9-44fe-eea9-5605f92ff46a"
      },
      "execution_count": 33,
      "outputs": [
        {
          "output_type": "execute_result",
          "data": {
            "text/plain": [
              "2.0"
            ]
          },
          "metadata": {},
          "execution_count": 33
        }
      ]
    },
    {
      "cell_type": "markdown",
      "source": [
        "## Crie um código que calcule e imprima a média ponderada dos números 5, 12, 20 e 15 com pesos respectivamente iguais a 1, 2, 3 e 4."
      ],
      "metadata": {
        "id": "r-IkeKCHk4zP"
      }
    },
    {
      "cell_type": "code",
      "source": [
        "numeros = [5,12,20,15]\n",
        "pesos = [1,2,3,4]\n",
        "media = sum(numeros[i] * pesos[i] for i in range(len(numeros))) / sum(pesos)\n",
        "mediapond = ((5*1 + 12*2 + 20*3 + 15*4)/(1+2+3+4))"
      ],
      "metadata": {
        "id": "c78G4K2oj5l8"
      },
      "execution_count": 42,
      "outputs": []
    },
    {
      "cell_type": "code",
      "source": [
        "print (f'A média ponderada é {media}')\n",
        "print (f'A média ponderada é {mediapond}')"
      ],
      "metadata": {
        "colab": {
          "base_uri": "https://localhost:8080/"
        },
        "id": "PE2yQSUCkvzB",
        "outputId": "5dbdb779-e575-4288-db24-be30adaf32d5"
      },
      "execution_count": 43,
      "outputs": [
        {
          "output_type": "stream",
          "name": "stdout",
          "text": [
            "A média ponderada é 14.9\n",
            "A média ponderada é 14.9\n"
          ]
        }
      ]
    },
    {
      "cell_type": "markdown",
      "source": [
        "\n",
        "\n",
        "---\n",
        "\n"
      ],
      "metadata": {
        "id": "1Glht0CUm_Ya"
      }
    },
    {
      "cell_type": "markdown",
      "source": [
        "# Editando textos"
      ],
      "metadata": {
        "id": "168RPXmCk7MQ"
      }
    },
    {
      "cell_type": "markdown",
      "source": [
        "## Crie uma variável chamada “frase” e atribua a ela uma string de sua escolha. Em seguida, imprima a frase na tela."
      ],
      "metadata": {
        "id": "O9q3lFSBk-dJ"
      }
    },
    {
      "cell_type": "code",
      "source": [
        "frase = 'Michael'"
      ],
      "metadata": {
        "id": "XmASpbhpl6yn"
      },
      "execution_count": 44,
      "outputs": []
    },
    {
      "cell_type": "code",
      "source": [
        "print (frase)"
      ],
      "metadata": {
        "colab": {
          "base_uri": "https://localhost:8080/"
        },
        "id": "TUvWHqTJmBJn",
        "outputId": "12cad94b-d22a-48c1-85d4-1709fe728918"
      },
      "execution_count": 45,
      "outputs": [
        {
          "output_type": "stream",
          "name": "stdout",
          "text": [
            "A\n"
          ]
        }
      ]
    },
    {
      "cell_type": "markdown",
      "source": [
        "## Crie um código que solicite uma frase e depois imprima a frase na tela."
      ],
      "metadata": {
        "id": "SNLV5BpMlJwJ"
      }
    },
    {
      "cell_type": "code",
      "source": [
        "frase = input ('Digite uma frase: ')"
      ],
      "metadata": {
        "colab": {
          "base_uri": "https://localhost:8080/"
        },
        "id": "bWvZCqDFmsx5",
        "outputId": "eed4f672-6fce-40f5-c20f-3bf54c2a8c5a"
      },
      "execution_count": 46,
      "outputs": [
        {
          "name": "stdout",
          "output_type": "stream",
          "text": [
            "Digite uma frase: Michael\n"
          ]
        }
      ]
    },
    {
      "cell_type": "code",
      "source": [
        "print (frase)"
      ],
      "metadata": {
        "colab": {
          "base_uri": "https://localhost:8080/"
        },
        "id": "QKlabUKznBLo",
        "outputId": "b0e85174-965b-453f-de13-3331bc8c390d"
      },
      "execution_count": 47,
      "outputs": [
        {
          "output_type": "stream",
          "name": "stdout",
          "text": [
            "Michael\n"
          ]
        }
      ]
    },
    {
      "cell_type": "markdown",
      "source": [
        "## Crie um código que solicite uma frase à pessoa usuária e imprima a mesma frase digitada mas com todas as letras maiúsculas."
      ],
      "metadata": {
        "id": "g9QOr3zolO94"
      }
    },
    {
      "cell_type": "code",
      "source": [
        "frase = input ('Digite uma frase: ')"
      ],
      "metadata": {
        "colab": {
          "base_uri": "https://localhost:8080/"
        },
        "id": "vvHLUFKCnKcu",
        "outputId": "8100a789-3668-4912-b03a-237e608a1bdf"
      },
      "execution_count": 48,
      "outputs": [
        {
          "name": "stdout",
          "output_type": "stream",
          "text": [
            "Digite uma frase: au\n"
          ]
        }
      ]
    },
    {
      "cell_type": "code",
      "source": [
        "str.upper(frase)"
      ],
      "metadata": {
        "colab": {
          "base_uri": "https://localhost:8080/",
          "height": 35
        },
        "id": "sR-NpSCfnOdb",
        "outputId": "53a50294-4e4d-4041-d8d3-85c7128edc0b"
      },
      "execution_count": 49,
      "outputs": [
        {
          "output_type": "execute_result",
          "data": {
            "text/plain": [
              "'AU'"
            ],
            "application/vnd.google.colaboratory.intrinsic+json": {
              "type": "string"
            }
          },
          "metadata": {},
          "execution_count": 49
        }
      ]
    },
    {
      "cell_type": "markdown",
      "source": [
        "## Crie um código que solicite uma frase à pessoa usuária e imprima a mesma frase digitada mas com todas as letras minúsculas."
      ],
      "metadata": {
        "id": "uIswJhCVlRPn"
      }
    },
    {
      "cell_type": "code",
      "source": [
        "frase = input ('Digite uma frase: ')"
      ],
      "metadata": {
        "colab": {
          "base_uri": "https://localhost:8080/"
        },
        "id": "k6mbUs6_pA8Z",
        "outputId": "7cdd7713-d375-45fd-c8e5-4fbc180b6591"
      },
      "execution_count": 50,
      "outputs": [
        {
          "name": "stdout",
          "output_type": "stream",
          "text": [
            "Digite uma frase: MICHAEL\n"
          ]
        }
      ]
    },
    {
      "cell_type": "code",
      "source": [
        "str.lower (frase)"
      ],
      "metadata": {
        "colab": {
          "base_uri": "https://localhost:8080/",
          "height": 35
        },
        "id": "jhBZNIZrpCnI",
        "outputId": "56ee1385-8a22-41af-d771-8c2dfa639445"
      },
      "execution_count": 51,
      "outputs": [
        {
          "output_type": "execute_result",
          "data": {
            "text/plain": [
              "'michael'"
            ],
            "application/vnd.google.colaboratory.intrinsic+json": {
              "type": "string"
            }
          },
          "metadata": {},
          "execution_count": 51
        }
      ]
    },
    {
      "cell_type": "markdown",
      "source": [
        "## Crie uma variável chamada “frase” e atribua a ela uma string de sua escolha. Em seguida, imprima a frase sem espaços em branco no início e no fim."
      ],
      "metadata": {
        "id": "EFBvB9bKlToO"
      }
    },
    {
      "cell_type": "code",
      "source": [
        "frase = input ('Digite uma frase: ')"
      ],
      "metadata": {
        "colab": {
          "base_uri": "https://localhost:8080/"
        },
        "id": "X8cFPL9bpX8n",
        "outputId": "9bc8ba45-adf6-446f-dcb5-b47969c5400a"
      },
      "execution_count": 54,
      "outputs": [
        {
          "name": "stdout",
          "output_type": "stream",
          "text": [
            "Digite uma frase:   Michael knopacki \n"
          ]
        }
      ]
    },
    {
      "cell_type": "code",
      "source": [
        "frase.strip()"
      ],
      "metadata": {
        "colab": {
          "base_uri": "https://localhost:8080/",
          "height": 35
        },
        "id": "hKgOln9MpbPY",
        "outputId": "9043c8bf-ccba-4813-a991-5d496433ea71"
      },
      "execution_count": 55,
      "outputs": [
        {
          "output_type": "execute_result",
          "data": {
            "text/plain": [
              "'Michael knopacki'"
            ],
            "application/vnd.google.colaboratory.intrinsic+json": {
              "type": "string"
            }
          },
          "metadata": {},
          "execution_count": 55
        }
      ]
    },
    {
      "cell_type": "markdown",
      "source": [
        "## Crie um código que solicite uma frase à pessoa usuária e imprima a mesma frase sem espaços em branco no início e no fim e em letras minúsculas."
      ],
      "metadata": {
        "id": "DmTalSmLmqth"
      }
    },
    {
      "cell_type": "code",
      "source": [
        "frase = input ('Digite uma frase: ')"
      ],
      "metadata": {
        "colab": {
          "base_uri": "https://localhost:8080/"
        },
        "id": "UafoCzMQqYWP",
        "outputId": "03c164f4-6b3e-42ef-f029-76c06fb91ff9"
      },
      "execution_count": 56,
      "outputs": [
        {
          "name": "stdout",
          "output_type": "stream",
          "text": [
            "Digite uma frase:  Michael Knopacki \n"
          ]
        }
      ]
    },
    {
      "cell_type": "code",
      "source": [
        "print (frase.upper().strip())"
      ],
      "metadata": {
        "colab": {
          "base_uri": "https://localhost:8080/"
        },
        "id": "eq3QRpnrqlu4",
        "outputId": "624009dc-8044-4593-a8aa-95da6fc940d3"
      },
      "execution_count": 58,
      "outputs": [
        {
          "output_type": "stream",
          "name": "stdout",
          "text": [
            "MICHAEL KNOPACKI\n"
          ]
        }
      ]
    },
    {
      "cell_type": "markdown",
      "source": [
        "## Crie um código que solicite uma frase à pessoa usuária e imprima a mesma frase com todas as vogais “e” trocadas pela letra “f”."
      ],
      "metadata": {
        "id": "zXAaXD1xmtwl"
      }
    },
    {
      "cell_type": "code",
      "source": [
        "frase = input ('Digite uma frase: ')"
      ],
      "metadata": {
        "colab": {
          "base_uri": "https://localhost:8080/"
        },
        "id": "Bl1J68wErEh3",
        "outputId": "a994fb47-a598-44c0-9b24-03156fa20d2d"
      },
      "execution_count": 59,
      "outputs": [
        {
          "name": "stdout",
          "output_type": "stream",
          "text": [
            "Digite uma frase: Michael\n"
          ]
        }
      ]
    },
    {
      "cell_type": "code",
      "source": [
        "frase.replace('e','f')"
      ],
      "metadata": {
        "colab": {
          "base_uri": "https://localhost:8080/",
          "height": 35
        },
        "id": "RZIHtHdarG1-",
        "outputId": "de5a9ed5-48eb-4633-e3ac-51f400516ba4"
      },
      "execution_count": 60,
      "outputs": [
        {
          "output_type": "execute_result",
          "data": {
            "text/plain": [
              "'Michafl'"
            ],
            "application/vnd.google.colaboratory.intrinsic+json": {
              "type": "string"
            }
          },
          "metadata": {},
          "execution_count": 60
        }
      ]
    },
    {
      "cell_type": "markdown",
      "source": [
        "## Crie um código que solicite uma frase à pessoa usuária e imprima a mesma frase com todas as vogais “a” trocadas pela caractere “@”."
      ],
      "metadata": {
        "id": "4_skb5hGmxbl"
      }
    },
    {
      "cell_type": "code",
      "source": [
        "frase = input ('Digite uma frase: ')"
      ],
      "metadata": {
        "colab": {
          "base_uri": "https://localhost:8080/"
        },
        "id": "Y7EptCRYrlxi",
        "outputId": "be7efb00-e983-4663-e090-da74d99fdd0c"
      },
      "execution_count": 61,
      "outputs": [
        {
          "name": "stdout",
          "output_type": "stream",
          "text": [
            "Digite uma frase: Michael\n"
          ]
        }
      ]
    },
    {
      "cell_type": "code",
      "source": [
        "frase.replace('a','@')"
      ],
      "metadata": {
        "colab": {
          "base_uri": "https://localhost:8080/",
          "height": 35
        },
        "id": "eUzyTzSIrmcK",
        "outputId": "f2f8cf24-76fa-4c99-a2c6-973e597e0551"
      },
      "execution_count": 62,
      "outputs": [
        {
          "output_type": "execute_result",
          "data": {
            "text/plain": [
              "'Mich@el'"
            ],
            "application/vnd.google.colaboratory.intrinsic+json": {
              "type": "string"
            }
          },
          "metadata": {},
          "execution_count": 62
        }
      ]
    },
    {
      "cell_type": "markdown",
      "source": [
        "## Crie um código que solicite uma frase à pessoa usuária e imprima a mesma frase com todas as consoantes “s” trocadas pelo caractere “$”."
      ],
      "metadata": {
        "id": "Sb3mUao1my0J"
      }
    },
    {
      "cell_type": "code",
      "source": [
        "frase = input ('Digite uma frase: ')"
      ],
      "metadata": {
        "colab": {
          "base_uri": "https://localhost:8080/"
        },
        "id": "BoGKVfn6r2ti",
        "outputId": "641d2fe9-fe97-42c7-c81b-fb0b0cde45bf"
      },
      "execution_count": 63,
      "outputs": [
        {
          "name": "stdout",
          "output_type": "stream",
          "text": [
            "Digite uma frase: Assados\n"
          ]
        }
      ]
    },
    {
      "cell_type": "code",
      "source": [
        "frase.replace('s','$')"
      ],
      "metadata": {
        "colab": {
          "base_uri": "https://localhost:8080/",
          "height": 35
        },
        "id": "q2aQ5amBr3d1",
        "outputId": "9ddeb9c7-e6bd-459f-d2bc-0bd0e4ce6a00"
      },
      "execution_count": 64,
      "outputs": [
        {
          "output_type": "execute_result",
          "data": {
            "text/plain": [
              "'A$$ado$'"
            ],
            "application/vnd.google.colaboratory.intrinsic+json": {
              "type": "string"
            }
          },
          "metadata": {},
          "execution_count": 64
        }
      ]
    },
    {
      "cell_type": "markdown",
      "source": [],
      "metadata": {
        "id": "RQJ6YC6pm1bB"
      }
    }
  ]
}