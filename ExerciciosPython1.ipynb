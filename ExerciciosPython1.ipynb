{
  "nbformat": 4,
  "nbformat_minor": 0,
  "metadata": {
    "colab": {
      "provenance": [],
      "authorship_tag": "ABX9TyOppOGWMF3V4bZsqlNF8OC8",
      "include_colab_link": true
    },
    "kernelspec": {
      "name": "python3",
      "display_name": "Python 3"
    },
    "language_info": {
      "name": "python"
    }
  },
  "cells": [
    {
      "cell_type": "markdown",
      "metadata": {
        "id": "view-in-github",
        "colab_type": "text"
      },
      "source": [
        "<a href=\"https://colab.research.google.com/github/MichaelKnopacki/exerciciosPython1/blob/main/ExerciciosPython1.ipynb\" target=\"_parent\"><img src=\"https://colab.research.google.com/assets/colab-badge.svg\" alt=\"Open In Colab\"/></a>"
      ]
    },
    {
      "cell_type": "markdown",
      "source": [
        "# Coleta e amostragem de dados\n",
        "\n"
      ],
      "metadata": {
        "id": "hiFNlD7wd_oy"
      }
    },
    {
      "cell_type": "markdown",
      "source": [
        "Crie um programa que solicite à pessoa usuária digitar seu nome, e imprima “Olá, [nome]!”."
      ],
      "metadata": {
        "id": "ex_MA8hZY-hZ"
      }
    },
    {
      "cell_type": "code",
      "source": [
        "nome = input( \"Qual seu nome ? \")"
      ],
      "metadata": {
        "colab": {
          "base_uri": "https://localhost:8080/"
        },
        "id": "IYfMhOapZVml",
        "outputId": "fca0773a-c34a-4d9e-fbcc-c618d13e84c9"
      },
      "execution_count": 3,
      "outputs": [
        {
          "name": "stdout",
          "output_type": "stream",
          "text": [
            "Qual seu nome ?Lorenzo\n"
          ]
        }
      ]
    },
    {
      "cell_type": "code",
      "source": [
        "print (f'Olá {nome}')"
      ],
      "metadata": {
        "colab": {
          "base_uri": "https://localhost:8080/"
        },
        "id": "IXK8sD70ZfWu",
        "outputId": "fa9202d6-bdd1-4ff9-c297-7c38f54b83e9"
      },
      "execution_count": 4,
      "outputs": [
        {
          "output_type": "stream",
          "name": "stdout",
          "text": [
            "Olá Lorenzo\n"
          ]
        }
      ]
    },
    {
      "cell_type": "markdown",
      "source": [
        "Crie um programa que solicite à pessoa usuária digitar seu nome e idade, e imprima “Olá, [nome], você tem [idade] anos.”.\n"
      ],
      "metadata": {
        "id": "FJ718EEjZGR1"
      }
    },
    {
      "cell_type": "code",
      "source": [
        "nome = input ('Qual seu nome ? ')\n",
        "idade = input ('Qual a sua idade ? ')"
      ],
      "metadata": {
        "colab": {
          "base_uri": "https://localhost:8080/"
        },
        "id": "A6gugmdxZJaK",
        "outputId": "8f8542a0-1f0d-4724-8837-490128b36f85"
      },
      "execution_count": 6,
      "outputs": [
        {
          "name": "stdout",
          "output_type": "stream",
          "text": [
            "Qual seu nome ? Jose\n",
            "Qual a sua idade ?14\n"
          ]
        }
      ]
    },
    {
      "cell_type": "code",
      "source": [
        "print(f'Olá {nome}, você tem {idade} anos')"
      ],
      "metadata": {
        "colab": {
          "base_uri": "https://localhost:8080/"
        },
        "id": "fIaHmJ9LZWN1",
        "outputId": "fd18d512-1b7d-4af1-c403-68897b2c5bef"
      },
      "execution_count": 7,
      "outputs": [
        {
          "output_type": "stream",
          "name": "stdout",
          "text": [
            "Olá Jose, você tem 14 anos\n"
          ]
        }
      ]
    },
    {
      "cell_type": "markdown",
      "source": [
        "Crie um programa que solicite à pessoa usuária digitar seu nome, idade e altura em metros, e imprima “Olá, [nome], você tem [idade] anos e mede [altura] metros!”."
      ],
      "metadata": {
        "id": "y7jZoLvlZLEh"
      }
    },
    {
      "cell_type": "code",
      "source": [
        "nome = input ('Qual seu nome ? ')\n",
        "idade = input ( 'Qual a sua idade ?')\n",
        "altura = input ( 'Qual a sua altura ?')"
      ],
      "metadata": {
        "colab": {
          "base_uri": "https://localhost:8080/"
        },
        "id": "GRHTaw8_ZXXY",
        "outputId": "2ec2d11f-81a0-471c-b3f7-d85b825a36a4"
      },
      "execution_count": 9,
      "outputs": [
        {
          "name": "stdout",
          "output_type": "stream",
          "text": [
            "Qual seu nome ? Marcos\n",
            "Qual a sua idade ?55\n",
            "Qual a sua altura ?1.70\n"
          ]
        }
      ]
    },
    {
      "cell_type": "code",
      "source": [
        "print (f'Olá, {nome}, você tem {idade} anos e mede {altura} metros!')"
      ],
      "metadata": {
        "colab": {
          "base_uri": "https://localhost:8080/"
        },
        "id": "ED7bxYaFdrmV",
        "outputId": "7f101376-ffe9-42e0-9cec-30bec8ebb32e"
      },
      "execution_count": 10,
      "outputs": [
        {
          "output_type": "stream",
          "name": "stdout",
          "text": [
            "Olá, Marcos, voc~e tem 55 anos e mede 1.70 metros!\n"
          ]
        }
      ]
    },
    {
      "cell_type": "markdown",
      "source": [
        "# Calculadora com operadores\n"
      ],
      "metadata": {
        "id": "SbTRS-JPeJA7"
      }
    },
    {
      "cell_type": "markdown",
      "source": [
        "## Crie um programa que solicite dois valores numéricos à pessoa usuária e imprima a soma dos dois valores."
      ],
      "metadata": {
        "id": "vuoVqvfLeNba"
      }
    },
    {
      "cell_type": "code",
      "source": [],
      "metadata": {
        "id": "0mi5GQ9TeSnK"
      },
      "execution_count": null,
      "outputs": []
    }
  ]
}